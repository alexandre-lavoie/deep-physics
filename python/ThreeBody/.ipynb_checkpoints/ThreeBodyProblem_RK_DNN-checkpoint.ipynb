{
 "cells": [
  {
   "cell_type": "code",
   "execution_count": 1,
   "metadata": {},
   "outputs": [],
   "source": [
    "import numpy as np\n",
    "from scipy.integrate import odeint\n",
    "from matplotlib import pyplot as plt\n",
    "\n",
    "from tensorflow.keras.models import Model\n",
    "from tensorflow.keras.layers import Dense, Dropout, Input\n",
    "from tensorflow.keras.optimizers import Adam"
   ]
  },
  {
   "cell_type": "code",
   "execution_count": 2,
   "metadata": {},
   "outputs": [],
   "source": [
    "class DNN:\n",
    "    def __init__(self, input_size, output_size, dropout=0.4, model=None):\n",
    "        if model == None:\n",
    "            self.model = self.generate_model(input_size, output_size, dropout)\n",
    "        else:\n",
    "            self.model = model\n",
    "    \n",
    "    def generate_model(self,input_size,output_size,dropout):\n",
    "        optimizer = Adam()\n",
    "        input_layer = Input(shape=(input_size,), name=\"Input\") \n",
    "        dense_layer = Dense(150, activation='relu')(input_layer)\n",
    "        #dense_layer = Dropout(dropout)(dense_layer)\n",
    "        dense_layer = Dense(150, activation='relu')(dense_layer)\n",
    "        #dense_layer = Dropout(dropout)(dense_layer)\n",
    "        dense_layer = Dense(150, activation='relu')(dense_layer)\n",
    "        #dense_layer = Dropout(dropout)(dense_layer)\n",
    "        dense_layer = Dense(150, activation='relu')(dense_layer)\n",
    "        #dense_layer = Dropout(dropout)(dense_layer)\n",
    "        dense_layer = Dense(100, activation='relu')(dense_layer)\n",
    "        #dense_layer = Dropout(dropout)(dense_layer)\n",
    "        output_layer = Dense(output_size, activation='tanh', name=\"Output\")(dense_layer)\n",
    "        model = Model(input_layer, output_layer)\n",
    "        model.compile(loss=\"mean_squared_error\", optimizer=optimizer, metrics=['accuracy'])\n",
    "        return model\n",
    "    \n",
    "    def train(self, data, labels, epochs = 150, batch_size = 32, save = True):\n",
    "        self.model.fit(data, labels, epochs = epochs, batch_size = batch_size, verbose = 1)\n",
    "        if save: \n",
    "            self.model.save(\"ThreeBodyDNN.h5\")\n",
    "        \n",
    "    def predict(self, system):\n",
    "        return self.model.predict(system)\n",
    "    \n",
    "    def get_path(self, system, steps):\n",
    "        mass = system[:3] \n",
    "        path = [system[3:] * SCALE] \n",
    "        prev = system[3:] * SCALE\n",
    "\n",
    "        for _ in range(steps):\n",
    "            combined = np.concatenate((mass, prev)).reshape(-1,15)\n",
    "            next_path = self.predict(combined)\n",
    "            path.append(next_path[0])\n",
    "            prev = next_path[0]\n",
    "            \n",
    "        return np.array(path) / SCALE"
   ]
  },
  {
   "cell_type": "code",
   "execution_count": 3,
   "metadata": {},
   "outputs": [],
   "source": [
    "def ThreeBody(y, t, M):\n",
    "    equations = np.empty((12, ))\n",
    "    \n",
    "    # Radii\n",
    "    R12 = np.sqrt((y[0]-y[4])**2+(y[1]-y[5])**2)\n",
    "    R13 = np.sqrt((y[0]-y[8])**2+(y[1]-y[9])**2)\n",
    "    R23 = np.sqrt((y[4]-y[8])**2+(y[5]-y[9])**2)\n",
    "    \n",
    "    # Body 0\n",
    "    equations[0] = y[2]\n",
    "    equations[1] = y[3]\n",
    "    equations[2] = G*M[1]*(y[4]-y[0])/(R12**3)+G*M[2]*(y[8]-y[0])/(R13**3)\n",
    "    equations[3] = G*M[1]*(y[5]-y[1])/(R12**3)+G*M[2]*(y[9]-y[1])/(R13**3)\n",
    "    \n",
    "    # Body 1\n",
    "    equations[4] = y[6]\n",
    "    equations[5] = y[7]\n",
    "    equations[6] = G*M[0]*(y[0]-y[4])/(R12**3)+G*M[2]*(y[8]-y[4])/(R23**3)\n",
    "    equations[7] = G*M[0]*(y[1]-y[5])/(R12**3)+G*M[2]*(y[9]-y[5])/(R23**3)\n",
    "    \n",
    "    # Body 2\n",
    "    equations[8] = y[10]\n",
    "    equations[9] = y[11]\n",
    "    equations[10] = G*M[0]*(y[0]-y[8])/(R13**3)+G*M[1]*(y[4]-y[8])/(R23**3)\n",
    "    equations[11] = G*M[0]*(y[1]-y[9])/(R13**3)+G*M[1]*(y[5]-y[9])/(R23**3)\n",
    "    \n",
    "    return equations"
   ]
  },
  {
   "cell_type": "code",
   "execution_count": 10,
   "metadata": {},
   "outputs": [],
   "source": [
    "def get_sample(time):\n",
    "    M = np.random.rand(3)\n",
    "    Y0 = np.random.rand(12) * 2 - np.ones(12)\n",
    "    T = np.arange(0, time+DT, DT)\n",
    "    RK = odeint(ThreeBody, Y0, T, (M, ))\n",
    "    return np.concatenate((M, Y0 * SCALE)).tolist(), (RK * SCALE)"
   ]
  },
  {
   "cell_type": "code",
   "execution_count": 5,
   "metadata": {},
   "outputs": [],
   "source": [
    "def get_training_data(sample):\n",
    "    IV = []\n",
    "    solution = []\n",
    "    for _ in range(sample):\n",
    "        i, s = get_sample(DT)\n",
    "        IV.append(i)\n",
    "        solution.append(s[1])\n",
    "    return np.array(IV), np.array(solution)"
   ]
  },
  {
   "cell_type": "code",
   "execution_count": 6,
   "metadata": {},
   "outputs": [],
   "source": [
    "def get_actual_path(sample, duration):\n",
    "    M = sample[:3]\n",
    "    Y0 = sample[3:]\n",
    "    T = np.arange(0, duration+DT, DT)\n",
    "    \n",
    "    RK = odeint(ThreeBody, Y0, T, (M, ))\n",
    "    \n",
    "    return RK"
   ]
  },
  {
   "cell_type": "code",
   "execution_count": 22,
   "metadata": {},
   "outputs": [],
   "source": [
    "G = 0.6674\n",
    "DT = 0.01\n",
    "MAX_TIME = 1\n",
    "SCALE = 0.1\n",
    "NUM_OF_SAMPLES = 1000"
   ]
  },
  {
   "cell_type": "code",
   "execution_count": 23,
   "metadata": {},
   "outputs": [],
   "source": [
    "train, label = get_training_data(NUM_OF_SAMPLES)"
   ]
  },
  {
   "cell_type": "code",
   "execution_count": 24,
   "metadata": {
    "scrolled": false
   },
   "outputs": [
    {
     "name": "stdout",
     "output_type": "stream",
     "text": [
      "Epoch 1/40\n",
      "1000/1000 [==============================] - 1s 1ms/step - loss: 0.0046 - acc: 0.1470\n",
      "Epoch 2/40\n",
      "1000/1000 [==============================] - 0s 343us/step - loss: 0.0034 - acc: 0.3310\n",
      "Epoch 3/40\n",
      "1000/1000 [==============================] - 0s 349us/step - loss: 0.0025 - acc: 0.4320\n",
      "Epoch 4/40\n",
      "1000/1000 [==============================] - 0s 344us/step - loss: 0.0019 - acc: 0.5610\n",
      "Epoch 5/40\n",
      "1000/1000 [==============================] - 0s 338us/step - loss: 0.0018 - acc: 0.5890\n",
      "Epoch 6/40\n",
      "1000/1000 [==============================] - 0s 332us/step - loss: 0.0016 - acc: 0.6560\n",
      "Epoch 7/40\n",
      "1000/1000 [==============================] - 0s 338us/step - loss: 0.0016 - acc: 0.6790\n",
      "Epoch 8/40\n",
      "1000/1000 [==============================] - 0s 329us/step - loss: 0.0016 - acc: 0.6490\n",
      "Epoch 9/40\n",
      "1000/1000 [==============================] - 0s 331us/step - loss: 0.0015 - acc: 0.6510\n",
      "Epoch 10/40\n",
      "1000/1000 [==============================] - 0s 350us/step - loss: 0.0015 - acc: 0.6460\n",
      "Epoch 11/40\n",
      "1000/1000 [==============================] - 0s 339us/step - loss: 0.0014 - acc: 0.6430\n",
      "Epoch 12/40\n",
      "1000/1000 [==============================] - 0s 336us/step - loss: 0.0013 - acc: 0.7260\n",
      "Epoch 13/40\n",
      "1000/1000 [==============================] - 0s 320us/step - loss: 0.0014 - acc: 0.6440\n",
      "Epoch 14/40\n",
      "1000/1000 [==============================] - 0s 348us/step - loss: 0.0011 - acc: 0.6860\n",
      "Epoch 15/40\n",
      "1000/1000 [==============================] - 0s 334us/step - loss: 0.0011 - acc: 0.7100\n",
      "Epoch 16/40\n",
      "1000/1000 [==============================] - 0s 336us/step - loss: 0.0011 - acc: 0.7030\n",
      "Epoch 17/40\n",
      "1000/1000 [==============================] - 0s 331us/step - loss: 9.7512e-04 - acc: 0.7030\n",
      "Epoch 18/40\n",
      "1000/1000 [==============================] - 0s 328us/step - loss: 9.1822e-04 - acc: 0.7630\n",
      "Epoch 19/40\n",
      "1000/1000 [==============================] - 0s 334us/step - loss: 8.8670e-04 - acc: 0.7610\n",
      "Epoch 20/40\n",
      "1000/1000 [==============================] - 0s 334us/step - loss: 9.2741e-04 - acc: 0.7490\n",
      "Epoch 21/40\n",
      "1000/1000 [==============================] - 0s 353us/step - loss: 0.0010 - acc: 0.7220\n",
      "Epoch 22/40\n",
      "1000/1000 [==============================] - 0s 350us/step - loss: 0.0012 - acc: 0.6300\n",
      "Epoch 23/40\n",
      "1000/1000 [==============================] - 0s 333us/step - loss: 0.0015 - acc: 0.6530\n",
      "Epoch 24/40\n",
      "1000/1000 [==============================] - 0s 345us/step - loss: 0.0011 - acc: 0.6370\n",
      "Epoch 25/40\n",
      "1000/1000 [==============================] - 0s 332us/step - loss: 9.0110e-04 - acc: 0.7310\n",
      "Epoch 26/40\n",
      "1000/1000 [==============================] - 0s 334us/step - loss: 8.6349e-04 - acc: 0.7750\n",
      "Epoch 27/40\n",
      "1000/1000 [==============================] - 0s 330us/step - loss: 8.5229e-04 - acc: 0.7700\n",
      "Epoch 28/40\n",
      "1000/1000 [==============================] - 0s 333us/step - loss: 8.2655e-04 - acc: 0.7780\n",
      "Epoch 29/40\n",
      "1000/1000 [==============================] - 0s 332us/step - loss: 8.2336e-04 - acc: 0.7820\n",
      "Epoch 30/40\n",
      "1000/1000 [==============================] - 0s 342us/step - loss: 8.2510e-04 - acc: 0.7880\n",
      "Epoch 31/40\n",
      "1000/1000 [==============================] - 0s 336us/step - loss: 8.2227e-04 - acc: 0.7910\n",
      "Epoch 32/40\n",
      "1000/1000 [==============================] - 0s 335us/step - loss: 8.2334e-04 - acc: 0.7820\n",
      "Epoch 33/40\n",
      "1000/1000 [==============================] - 0s 337us/step - loss: 8.2008e-04 - acc: 0.8000\n",
      "Epoch 34/40\n",
      "1000/1000 [==============================] - 0s 340us/step - loss: 8.3648e-04 - acc: 0.7600\n",
      "Epoch 35/40\n",
      "1000/1000 [==============================] - 0s 336us/step - loss: 8.1814e-04 - acc: 0.7860\n",
      "Epoch 36/40\n",
      "1000/1000 [==============================] - 0s 338us/step - loss: 8.0861e-04 - acc: 0.7990\n",
      "Epoch 37/40\n",
      "1000/1000 [==============================] - 0s 338us/step - loss: 8.1185e-04 - acc: 0.7910\n",
      "Epoch 38/40\n",
      "1000/1000 [==============================] - 0s 337us/step - loss: 8.0382e-04 - acc: 0.8110\n",
      "Epoch 39/40\n",
      "1000/1000 [==============================] - 0s 332us/step - loss: 8.0197e-04 - acc: 0.7930\n",
      "Epoch 40/40\n",
      "1000/1000 [==============================] - 0s 344us/step - loss: 8.0519e-04 - acc: 0.7920\n"
     ]
    }
   ],
   "source": [
    "dnn = DNN(input_size = 15, output_size = 12, dropout=0.1)\n",
    "dnn.train(data = train, labels = label, epochs=40)"
   ]
  },
  {
   "cell_type": "code",
   "execution_count": 35,
   "metadata": {},
   "outputs": [],
   "source": [
    "sample = np.random.rand(15)\n",
    "generated_path = dnn.get_path(sample, steps=int(MAX_TIME/DT))\n",
    "actual_path = get_actual_path(sample, duration=MAX_TIME)"
   ]
  },
  {
   "cell_type": "code",
   "execution_count": 36,
   "metadata": {},
   "outputs": [
    {
     "data": {
      "image/png": "[encoded data removed]",
      "text/plain": [
       "<Figure size 1080x720 with 1 Axes>"
      ]
     },
     "metadata": {
      "needs_background": "light"
     },
     "output_type": "display_data"
    }
   ],
   "source": [
    "plt.figure(figsize=(15,10))\n",
    "\n",
    "#plt.plot(generated_path[:,1])\n",
    "#plt.plot(actual_path[:,1])\n",
    "plt.plot(generated_path[:,0], generated_path[:,1])\n",
    "plt.plot(generated_path[:,4], generated_path[:,5])\n",
    "plt.plot(generated_path[:,8], generated_path[:,9])\n",
    "plt.plot(actual_path[:,0], actual_path[:,1])\n",
    "plt.plot(actual_path[:,4], actual_path[:,5])\n",
    "plt.plot(actual_path[:,8], actual_path[:,9])\n",
    "\n",
    "plt.show()"
   ]
  },
  {
   "cell_type": "code",
   "execution_count": null,
   "metadata": {},
   "outputs": [],
   "source": []
  }
 ],
 "metadata": {
  "kernelspec": {
   "display_name": "Python 3",
   "language": "python",
   "name": "python3"
  },
  "language_info": {
   "codemirror_mode": {
    "name": "ipython",
    "version": 3
   },
   "file_extension": ".py",
   "mimetype": "text/x-python",
   "name": "python",
   "nbconvert_exporter": "python",
   "pygments_lexer": "ipython3",
   "version": "3.6.8"
  }
 },
 "nbformat": 4,
 "nbformat_minor": 2
}
